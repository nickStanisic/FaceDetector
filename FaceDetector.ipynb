{
 "cells": [
  {
   "cell_type": "code",
   "execution_count": 1,
   "metadata": {},
   "outputs": [],
   "source": [
    "import numpy as np\n",
    "import matplotlib.pyplot as plt\n",
    "import tensorflow as tf\n",
    "import tensorflow.keras.layers as tfl\n",
    "import pandas as pd\n",
    "import zipfile"
   ]
  },
  {
   "cell_type": "markdown",
   "metadata": {},
   "source": [
    "# Project Description\n",
    "For this project, I am planning on using a facial data set from kaggle to identify facial features. This is very interesting to me, since it takes CNN models a step farther from binary classification. The goal will be to label X-Y coordinates for different facial features on unlabeled images. If the model is trained well then it can identify a face and its features from different angles.  This could be very useful in security cameras, identifying people in photos or videos and using the data to analyze facial expressions. This also has test data to submit to the competition.\n",
    "\n",
    "### Kaggle Link \n",
    "https://www.kaggle.com/competitions/facial-keypoints-detection/overview"
   ]
  },
  {
   "cell_type": "markdown",
   "metadata": {},
   "source": [
    "# Data \n",
    "The data is split into a training.csv and a test.csv. The training data has columns 0-29 for 30 facial features and the last column has the image data.  The test data just has image data. The image data is a single space delineated row of pixel values. I will reformat it to float32 and 96 x 96 x 1. I'll be splitting the training data into training and validation data to train my models. The first 30 columns are x or y coordinates for a facial feature. The 30 facial feature columns are all type float64 and the image is of size 96 x 96 X 1 (so they are greyscale)."
   ]
  },
  {
   "cell_type": "code",
   "execution_count": 2,
   "metadata": {},
   "outputs": [],
   "source": [
    "#read data in\n",
    "train_df = pd.read_csv('facial-keypoints-detection/training.csv')\n",
    "test_df = pd.read_csv('facial-keypoints-detection/test.csv')"
   ]
  },
  {
   "cell_type": "code",
   "execution_count": null,
   "metadata": {},
   "outputs": [
    {
     "name": "stdout",
     "output_type": "stream",
     "text": [
      "   left_eye_center_x  left_eye_center_y  right_eye_center_x  \\\n",
      "0          66.033564          39.002274           30.227008   \n",
      "1          64.332936          34.970077           29.949277   \n",
      "2          65.057053          34.909642           30.903789   \n",
      "\n",
      "   right_eye_center_y  left_eye_inner_corner_x  left_eye_inner_corner_y  \\\n",
      "0           36.421678                59.582075                39.647423   \n",
      "1           33.448715                58.856170                35.274349   \n",
      "2           34.909642                59.412000                36.320968   \n",
      "\n",
      "   left_eye_outer_corner_x  left_eye_outer_corner_y  right_eye_inner_corner_x  \\\n",
      "0                73.130346                39.969997                 36.356571   \n",
      "1                70.722723                36.187166                 36.034723   \n",
      "2                70.984421                36.320968                 37.678105   \n",
      "\n",
      "   right_eye_inner_corner_y  ...  nose_tip_y  mouth_left_corner_x  \\\n",
      "0                 37.389402  ...   57.066803            61.195308   \n",
      "1                 34.361532  ...   55.660936            56.421447   \n",
      "2                 36.320968  ...   53.538947            60.822947   \n",
      "\n",
      "   mouth_left_corner_y  mouth_right_corner_x  mouth_right_corner_y  \\\n",
      "0            79.970165             28.614496             77.388992   \n",
      "1            76.352000             35.122383             76.047660   \n",
      "2            73.014316             33.726316             72.732000   \n",
      "\n",
      "   mouth_center_top_lip_x  mouth_center_top_lip_y  mouth_center_bottom_lip_x  \\\n",
      "0               43.312602               72.935459                  43.130707   \n",
      "1               46.684596               70.266553                  45.467915   \n",
      "2               47.274947               70.191789                  47.274947   \n",
      "\n",
      "   mouth_center_bottom_lip_y  \\\n",
      "0                  84.485774   \n",
      "1                  85.480170   \n",
      "2                  78.659368   \n",
      "\n",
      "                                               Image  \n",
      "0  238 236 237 238 240 240 239 241 241 243 240 23...  \n",
      "1  219 215 204 196 204 211 212 200 180 168 178 19...  \n",
      "2  144 142 159 180 188 188 184 180 167 132 84 59 ...  \n",
      "\n",
      "[3 rows x 31 columns]\n"
     ]
    }
   ],
   "source": [
    "print(train_df.head(3))"
   ]
  },
  {
   "cell_type": "code",
   "execution_count": 5,
   "metadata": {},
   "outputs": [
    {
     "name": "stdout",
     "output_type": "stream",
     "text": [
      "<class 'pandas.core.frame.DataFrame'>\n",
      "RangeIndex: 7049 entries, 0 to 7048\n",
      "Data columns (total 31 columns):\n",
      " #   Column                     Non-Null Count  Dtype  \n",
      "---  ------                     --------------  -----  \n",
      " 0   left_eye_center_x          7039 non-null   float64\n",
      " 1   left_eye_center_y          7039 non-null   float64\n",
      " 2   right_eye_center_x         7036 non-null   float64\n",
      " 3   right_eye_center_y         7036 non-null   float64\n",
      " 4   left_eye_inner_corner_x    2271 non-null   float64\n",
      " 5   left_eye_inner_corner_y    2271 non-null   float64\n",
      " 6   left_eye_outer_corner_x    2267 non-null   float64\n",
      " 7   left_eye_outer_corner_y    2267 non-null   float64\n",
      " 8   right_eye_inner_corner_x   2268 non-null   float64\n",
      " 9   right_eye_inner_corner_y   2268 non-null   float64\n",
      " 10  right_eye_outer_corner_x   2268 non-null   float64\n",
      " 11  right_eye_outer_corner_y   2268 non-null   float64\n",
      " 12  left_eyebrow_inner_end_x   2270 non-null   float64\n",
      " 13  left_eyebrow_inner_end_y   2270 non-null   float64\n",
      " 14  left_eyebrow_outer_end_x   2225 non-null   float64\n",
      " 15  left_eyebrow_outer_end_y   2225 non-null   float64\n",
      " 16  right_eyebrow_inner_end_x  2270 non-null   float64\n",
      " 17  right_eyebrow_inner_end_y  2270 non-null   float64\n",
      " 18  right_eyebrow_outer_end_x  2236 non-null   float64\n",
      " 19  right_eyebrow_outer_end_y  2236 non-null   float64\n",
      " 20  nose_tip_x                 7049 non-null   float64\n",
      " 21  nose_tip_y                 7049 non-null   float64\n",
      " 22  mouth_left_corner_x        2269 non-null   float64\n",
      " 23  mouth_left_corner_y        2269 non-null   float64\n",
      " 24  mouth_right_corner_x       2270 non-null   float64\n",
      " 25  mouth_right_corner_y       2270 non-null   float64\n",
      " 26  mouth_center_top_lip_x     2275 non-null   float64\n",
      " 27  mouth_center_top_lip_y     2275 non-null   float64\n",
      " 28  mouth_center_bottom_lip_x  7016 non-null   float64\n",
      " 29  mouth_center_bottom_lip_y  7016 non-null   float64\n",
      " 30  Image                      7049 non-null   object \n",
      "dtypes: float64(30), object(1)\n",
      "memory usage: 1.7+ MB\n",
      "None\n"
     ]
    }
   ],
   "source": [
    "print(train_df.info())"
   ]
  },
  {
   "cell_type": "code",
   "execution_count": 11,
   "metadata": {},
   "outputs": [],
   "source": [
    "y_train = np.array(train_df.iloc[:,:30])\n",
    "\n",
    "img_dt = []\n",
    "for i in range(len(train_df)):\n",
    "    img_dt.append(train_df['Image'][i].split(' '))\n",
    "\n",
    "x_train = np.array(img_dt, dtype='float')\n",
    "\n",
    "x_train = x_train.reshape(x_train.shape[0],96,96)"
   ]
  },
  {
   "cell_type": "markdown",
   "metadata": {},
   "source": [
    "# Exploratory Data Analysis\n"
   ]
  },
  {
   "cell_type": "code",
   "execution_count": 12,
   "metadata": {},
   "outputs": [
    {
     "data": {
      "image/png": "[encoded data removed]",
      "text/plain": [
       "<Figure size 640x480 with 1 Axes>"
      ]
     },
     "metadata": {},
     "output_type": "display_data"
    }
   ],
   "source": [
    "plt.imshow(x_train[0], cmap='gray')\n",
    "plt.title(\"Input Image\")\n",
    "plt.savefig('plot.png', bbox_inches='tight')\n",
    "plt.show()"
   ]
  },
  {
   "cell_type": "code",
   "execution_count": null,
   "metadata": {},
   "outputs": [],
   "source": []
  }
 ],
 "metadata": {
  "kernelspec": {
   "display_name": "venv",
   "language": "python",
   "name": "python3"
  },
  "language_info": {
   "codemirror_mode": {
    "name": "ipython",
    "version": 3
   },
   "file_extension": ".py",
   "mimetype": "text/x-python",
   "name": "python",
   "nbconvert_exporter": "python",
   "pygments_lexer": "ipython3",
   "version": "3.10.11"
  }
 },
 "nbformat": 4,
 "nbformat_minor": 2
}
